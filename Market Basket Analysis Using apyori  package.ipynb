{
 "cells": [
  {
   "cell_type": "markdown",
   "metadata": {},
   "source": [
    "# Market Basket Analysis of Store Data\n",
    "\n",
    "## Dataset Description\n",
    "\n",
    "* Different products given 7500 transactions over the course of a week at a French retail store.\n",
    "* We have library(**apyori**) to calculate the association rule using Apriori."
   ]
  },
  {
   "cell_type": "markdown",
   "metadata": {},
   "source": [
    "## Import the Library"
   ]
  },
  {
   "cell_type": "code",
   "execution_count": 1,
   "metadata": {
    "ExecuteTime": {
     "end_time": "2019-05-31T11:46:52.394081Z",
     "start_time": "2019-05-31T11:46:51.727017Z"
    }
   },
   "outputs": [],
   "source": [
    "import numpy as np\n",
    "import pandas as pd\n",
    "import matplotlib.pyplot as plt\n",
    "from apyori import apriori"
   ]
  },
  {
   "cell_type": "markdown",
   "metadata": {},
   "source": [
    "## Read data and Display"
   ]
  },
  {
   "cell_type": "code",
   "execution_count": null,
   "metadata": {
    "ExecuteTime": {
     "end_time": "2019-05-31T11:46:52.446120Z",
     "start_time": "2019-05-31T11:46:52.396020Z"
    },
    "tags": []
   },
   "outputs": [
    {
     "ename": "FileNotFoundError",
     "evalue": "[Errno 2] No such file or directory: 'store_data.csv'",
     "output_type": "error",
     "traceback": [
      "\u001b[1;31m---------------------------------------------------------------------------\u001b[0m",
      "\u001b[1;31mFileNotFoundError\u001b[0m                         Traceback (most recent call last)",
      "Cell \u001b[1;32mIn[9], line 1\u001b[0m\n\u001b[1;32m----> 1\u001b[0m store_data \u001b[39m=\u001b[39m pd\u001b[39m.\u001b[39;49mread_csv(\u001b[39m\"\u001b[39;49m\u001b[39mstore_data.csv\u001b[39;49m\u001b[39m\"\u001b[39;49m, header\u001b[39m=\u001b[39;49m\u001b[39mNone\u001b[39;49;00m)\n\u001b[0;32m      2\u001b[0m display(store_data\u001b[39m.\u001b[39mhead())\n\u001b[0;32m      3\u001b[0m \u001b[39mprint\u001b[39m(store_data\u001b[39m.\u001b[39mshape)\n",
      "File \u001b[1;32mc:\\Users\\MITHRAA\\AppData\\Local\\Programs\\Python\\Python310\\lib\\site-packages\\pandas\\util\\_decorators.py:211\u001b[0m, in \u001b[0;36mdeprecate_kwarg.<locals>._deprecate_kwarg.<locals>.wrapper\u001b[1;34m(*args, **kwargs)\u001b[0m\n\u001b[0;32m    209\u001b[0m     \u001b[39melse\u001b[39;00m:\n\u001b[0;32m    210\u001b[0m         kwargs[new_arg_name] \u001b[39m=\u001b[39m new_arg_value\n\u001b[1;32m--> 211\u001b[0m \u001b[39mreturn\u001b[39;00m func(\u001b[39m*\u001b[39margs, \u001b[39m*\u001b[39m\u001b[39m*\u001b[39mkwargs)\n",
      "File \u001b[1;32mc:\\Users\\MITHRAA\\AppData\\Local\\Programs\\Python\\Python310\\lib\\site-packages\\pandas\\util\\_decorators.py:331\u001b[0m, in \u001b[0;36mdeprecate_nonkeyword_arguments.<locals>.decorate.<locals>.wrapper\u001b[1;34m(*args, **kwargs)\u001b[0m\n\u001b[0;32m    325\u001b[0m \u001b[39mif\u001b[39;00m \u001b[39mlen\u001b[39m(args) \u001b[39m>\u001b[39m num_allow_args:\n\u001b[0;32m    326\u001b[0m     warnings\u001b[39m.\u001b[39mwarn(\n\u001b[0;32m    327\u001b[0m         msg\u001b[39m.\u001b[39mformat(arguments\u001b[39m=\u001b[39m_format_argument_list(allow_args)),\n\u001b[0;32m    328\u001b[0m         \u001b[39mFutureWarning\u001b[39;00m,\n\u001b[0;32m    329\u001b[0m         stacklevel\u001b[39m=\u001b[39mfind_stack_level(),\n\u001b[0;32m    330\u001b[0m     )\n\u001b[1;32m--> 331\u001b[0m \u001b[39mreturn\u001b[39;00m func(\u001b[39m*\u001b[39margs, \u001b[39m*\u001b[39m\u001b[39m*\u001b[39mkwargs)\n",
      "File \u001b[1;32mc:\\Users\\MITHRAA\\AppData\\Local\\Programs\\Python\\Python310\\lib\\site-packages\\pandas\\io\\parsers\\readers.py:950\u001b[0m, in \u001b[0;36mread_csv\u001b[1;34m(filepath_or_buffer, sep, delimiter, header, names, index_col, usecols, squeeze, prefix, mangle_dupe_cols, dtype, engine, converters, true_values, false_values, skipinitialspace, skiprows, skipfooter, nrows, na_values, keep_default_na, na_filter, verbose, skip_blank_lines, parse_dates, infer_datetime_format, keep_date_col, date_parser, dayfirst, cache_dates, iterator, chunksize, compression, thousands, decimal, lineterminator, quotechar, quoting, doublequote, escapechar, comment, encoding, encoding_errors, dialect, error_bad_lines, warn_bad_lines, on_bad_lines, delim_whitespace, low_memory, memory_map, float_precision, storage_options)\u001b[0m\n\u001b[0;32m    935\u001b[0m kwds_defaults \u001b[39m=\u001b[39m _refine_defaults_read(\n\u001b[0;32m    936\u001b[0m     dialect,\n\u001b[0;32m    937\u001b[0m     delimiter,\n\u001b[1;32m   (...)\u001b[0m\n\u001b[0;32m    946\u001b[0m     defaults\u001b[39m=\u001b[39m{\u001b[39m\"\u001b[39m\u001b[39mdelimiter\u001b[39m\u001b[39m\"\u001b[39m: \u001b[39m\"\u001b[39m\u001b[39m,\u001b[39m\u001b[39m\"\u001b[39m},\n\u001b[0;32m    947\u001b[0m )\n\u001b[0;32m    948\u001b[0m kwds\u001b[39m.\u001b[39mupdate(kwds_defaults)\n\u001b[1;32m--> 950\u001b[0m \u001b[39mreturn\u001b[39;00m _read(filepath_or_buffer, kwds)\n",
      "File \u001b[1;32mc:\\Users\\MITHRAA\\AppData\\Local\\Programs\\Python\\Python310\\lib\\site-packages\\pandas\\io\\parsers\\readers.py:605\u001b[0m, in \u001b[0;36m_read\u001b[1;34m(filepath_or_buffer, kwds)\u001b[0m\n\u001b[0;32m    602\u001b[0m _validate_names(kwds\u001b[39m.\u001b[39mget(\u001b[39m\"\u001b[39m\u001b[39mnames\u001b[39m\u001b[39m\"\u001b[39m, \u001b[39mNone\u001b[39;00m))\n\u001b[0;32m    604\u001b[0m \u001b[39m# Create the parser.\u001b[39;00m\n\u001b[1;32m--> 605\u001b[0m parser \u001b[39m=\u001b[39m TextFileReader(filepath_or_buffer, \u001b[39m*\u001b[39m\u001b[39m*\u001b[39mkwds)\n\u001b[0;32m    607\u001b[0m \u001b[39mif\u001b[39;00m chunksize \u001b[39mor\u001b[39;00m iterator:\n\u001b[0;32m    608\u001b[0m     \u001b[39mreturn\u001b[39;00m parser\n",
      "File \u001b[1;32mc:\\Users\\MITHRAA\\AppData\\Local\\Programs\\Python\\Python310\\lib\\site-packages\\pandas\\io\\parsers\\readers.py:1442\u001b[0m, in \u001b[0;36mTextFileReader.__init__\u001b[1;34m(self, f, engine, **kwds)\u001b[0m\n\u001b[0;32m   1439\u001b[0m     \u001b[39mself\u001b[39m\u001b[39m.\u001b[39moptions[\u001b[39m\"\u001b[39m\u001b[39mhas_index_names\u001b[39m\u001b[39m\"\u001b[39m] \u001b[39m=\u001b[39m kwds[\u001b[39m\"\u001b[39m\u001b[39mhas_index_names\u001b[39m\u001b[39m\"\u001b[39m]\n\u001b[0;32m   1441\u001b[0m \u001b[39mself\u001b[39m\u001b[39m.\u001b[39mhandles: IOHandles \u001b[39m|\u001b[39m \u001b[39mNone\u001b[39;00m \u001b[39m=\u001b[39m \u001b[39mNone\u001b[39;00m\n\u001b[1;32m-> 1442\u001b[0m \u001b[39mself\u001b[39m\u001b[39m.\u001b[39m_engine \u001b[39m=\u001b[39m \u001b[39mself\u001b[39;49m\u001b[39m.\u001b[39;49m_make_engine(f, \u001b[39mself\u001b[39;49m\u001b[39m.\u001b[39;49mengine)\n",
      "File \u001b[1;32mc:\\Users\\MITHRAA\\AppData\\Local\\Programs\\Python\\Python310\\lib\\site-packages\\pandas\\io\\parsers\\readers.py:1735\u001b[0m, in \u001b[0;36mTextFileReader._make_engine\u001b[1;34m(self, f, engine)\u001b[0m\n\u001b[0;32m   1733\u001b[0m     \u001b[39mif\u001b[39;00m \u001b[39m\"\u001b[39m\u001b[39mb\u001b[39m\u001b[39m\"\u001b[39m \u001b[39mnot\u001b[39;00m \u001b[39min\u001b[39;00m mode:\n\u001b[0;32m   1734\u001b[0m         mode \u001b[39m+\u001b[39m\u001b[39m=\u001b[39m \u001b[39m\"\u001b[39m\u001b[39mb\u001b[39m\u001b[39m\"\u001b[39m\n\u001b[1;32m-> 1735\u001b[0m \u001b[39mself\u001b[39m\u001b[39m.\u001b[39mhandles \u001b[39m=\u001b[39m get_handle(\n\u001b[0;32m   1736\u001b[0m     f,\n\u001b[0;32m   1737\u001b[0m     mode,\n\u001b[0;32m   1738\u001b[0m     encoding\u001b[39m=\u001b[39;49m\u001b[39mself\u001b[39;49m\u001b[39m.\u001b[39;49moptions\u001b[39m.\u001b[39;49mget(\u001b[39m\"\u001b[39;49m\u001b[39mencoding\u001b[39;49m\u001b[39m\"\u001b[39;49m, \u001b[39mNone\u001b[39;49;00m),\n\u001b[0;32m   1739\u001b[0m     compression\u001b[39m=\u001b[39;49m\u001b[39mself\u001b[39;49m\u001b[39m.\u001b[39;49moptions\u001b[39m.\u001b[39;49mget(\u001b[39m\"\u001b[39;49m\u001b[39mcompression\u001b[39;49m\u001b[39m\"\u001b[39;49m, \u001b[39mNone\u001b[39;49;00m),\n\u001b[0;32m   1740\u001b[0m     memory_map\u001b[39m=\u001b[39;49m\u001b[39mself\u001b[39;49m\u001b[39m.\u001b[39;49moptions\u001b[39m.\u001b[39;49mget(\u001b[39m\"\u001b[39;49m\u001b[39mmemory_map\u001b[39;49m\u001b[39m\"\u001b[39;49m, \u001b[39mFalse\u001b[39;49;00m),\n\u001b[0;32m   1741\u001b[0m     is_text\u001b[39m=\u001b[39;49mis_text,\n\u001b[0;32m   1742\u001b[0m     errors\u001b[39m=\u001b[39;49m\u001b[39mself\u001b[39;49m\u001b[39m.\u001b[39;49moptions\u001b[39m.\u001b[39;49mget(\u001b[39m\"\u001b[39;49m\u001b[39mencoding_errors\u001b[39;49m\u001b[39m\"\u001b[39;49m, \u001b[39m\"\u001b[39;49m\u001b[39mstrict\u001b[39;49m\u001b[39m\"\u001b[39;49m),\n\u001b[0;32m   1743\u001b[0m     storage_options\u001b[39m=\u001b[39;49m\u001b[39mself\u001b[39;49m\u001b[39m.\u001b[39;49moptions\u001b[39m.\u001b[39;49mget(\u001b[39m\"\u001b[39;49m\u001b[39mstorage_options\u001b[39;49m\u001b[39m\"\u001b[39;49m, \u001b[39mNone\u001b[39;49;00m),\n\u001b[0;32m   1744\u001b[0m )\n\u001b[0;32m   1745\u001b[0m \u001b[39massert\u001b[39;00m \u001b[39mself\u001b[39m\u001b[39m.\u001b[39mhandles \u001b[39mis\u001b[39;00m \u001b[39mnot\u001b[39;00m \u001b[39mNone\u001b[39;00m\n\u001b[0;32m   1746\u001b[0m f \u001b[39m=\u001b[39m \u001b[39mself\u001b[39m\u001b[39m.\u001b[39mhandles\u001b[39m.\u001b[39mhandle\n",
      "File \u001b[1;32mc:\\Users\\MITHRAA\\AppData\\Local\\Programs\\Python\\Python310\\lib\\site-packages\\pandas\\io\\common.py:856\u001b[0m, in \u001b[0;36mget_handle\u001b[1;34m(path_or_buf, mode, encoding, compression, memory_map, is_text, errors, storage_options)\u001b[0m\n\u001b[0;32m    851\u001b[0m \u001b[39melif\u001b[39;00m \u001b[39misinstance\u001b[39m(handle, \u001b[39mstr\u001b[39m):\n\u001b[0;32m    852\u001b[0m     \u001b[39m# Check whether the filename is to be opened in binary mode.\u001b[39;00m\n\u001b[0;32m    853\u001b[0m     \u001b[39m# Binary mode does not support 'encoding' and 'newline'.\u001b[39;00m\n\u001b[0;32m    854\u001b[0m     \u001b[39mif\u001b[39;00m ioargs\u001b[39m.\u001b[39mencoding \u001b[39mand\u001b[39;00m \u001b[39m\"\u001b[39m\u001b[39mb\u001b[39m\u001b[39m\"\u001b[39m \u001b[39mnot\u001b[39;00m \u001b[39min\u001b[39;00m ioargs\u001b[39m.\u001b[39mmode:\n\u001b[0;32m    855\u001b[0m         \u001b[39m# Encoding\u001b[39;00m\n\u001b[1;32m--> 856\u001b[0m         handle \u001b[39m=\u001b[39m \u001b[39mopen\u001b[39;49m(\n\u001b[0;32m    857\u001b[0m             handle,\n\u001b[0;32m    858\u001b[0m             ioargs\u001b[39m.\u001b[39;49mmode,\n\u001b[0;32m    859\u001b[0m             encoding\u001b[39m=\u001b[39;49mioargs\u001b[39m.\u001b[39;49mencoding,\n\u001b[0;32m    860\u001b[0m             errors\u001b[39m=\u001b[39;49merrors,\n\u001b[0;32m    861\u001b[0m             newline\u001b[39m=\u001b[39;49m\u001b[39m\"\u001b[39;49m\u001b[39m\"\u001b[39;49m,\n\u001b[0;32m    862\u001b[0m         )\n\u001b[0;32m    863\u001b[0m     \u001b[39melse\u001b[39;00m:\n\u001b[0;32m    864\u001b[0m         \u001b[39m# Binary mode\u001b[39;00m\n\u001b[0;32m    865\u001b[0m         handle \u001b[39m=\u001b[39m \u001b[39mopen\u001b[39m(handle, ioargs\u001b[39m.\u001b[39mmode)\n",
      "\u001b[1;31mFileNotFoundError\u001b[0m: [Errno 2] No such file or directory: 'store_data.csv'"
     ]
    }
   ],
   "source": [
    "store_data = pd.read_csv(r\"\"E:\\Market-Basket-Analysis-master\\Data\\store_data.csv\", header=None)\n",
    "display(store_data.head())\n",
    "print(store_data.shape)"
   ]
  },
  {
   "cell_type": "markdown",
   "metadata": {},
   "source": [
    "## Preprocessing on Data\n",
    "*  Here we need a data in form of list for Apriori Algorithm."
   ]
  },
  {
   "cell_type": "code",
   "execution_count": 3,
   "metadata": {
    "ExecuteTime": {
     "end_time": "2019-05-31T11:46:53.754118Z",
     "start_time": "2019-05-31T11:46:52.448022Z"
    }
   },
   "outputs": [],
   "source": [
    "records = []\n",
    "for i in range(1, 7501):\n",
    "    records.append([str(store_data.values[i, j]) for j in range(0, 20)])"
   ]
  },
  {
   "cell_type": "code",
   "execution_count": 4,
   "metadata": {
    "ExecuteTime": {
     "end_time": "2019-05-31T11:46:53.759119Z",
     "start_time": "2019-05-31T11:46:53.756117Z"
    }
   },
   "outputs": [
    {
     "name": "stdout",
     "output_type": "stream",
     "text": [
      "<class 'list'>\n"
     ]
    }
   ],
   "source": [
    "print(type(records))"
   ]
  },
  {
   "cell_type": "markdown",
   "metadata": {},
   "source": [
    "## Apriori Algorithm\n",
    "\n",
    "* Now time to apply algorithm on data.\n",
    "* We have provide `min_support`, `min_confidence`, `min_lift`, and `min length` of sample-set for find rule.\n",
    "\n",
    "#### Measure 1: Support.\n",
    "This says how popular an itemset is, as measured by the proportion of transactions in which an itemset appears. In Table 1 below, the support of {apple} is 4 out of 8, or 50%. Itemsets can also contain multiple items. For instance, the support of {apple, beer, rice} is 2 out of 8, or 25%.\n",
    "\n",
    "![](https://annalyzin.files.wordpress.com/2016/04/association-rule-support-table.png?w=503&h=447)\n",
    "\n",
    "If you discover that sales of items beyond a certain proportion tend to have a significant impact on your profits, you might consider using that proportion as your support threshold. You may then identify itemsets with support values above this threshold as significant itemsets.\n",
    "\n",
    "#### Measure 2: Confidence. \n",
    "This says how likely item Y is purchased when item X is purchased, expressed as {X -> Y}. This is measured by the proportion of transactions with item X, in which item Y also appears. In Table 1, the confidence of {apple -> beer} is 3 out of 4, or 75%.\n",
    "\n",
    "![](https://annalyzin.files.wordpress.com/2016/03/association-rule-confidence-eqn.png?w=527&h=77)\n",
    "\n",
    "One drawback of the confidence measure is that it might misrepresent the importance of an association. This is because it only accounts for how popular apples are, but not beers. If beers are also very popular in general, there will be a higher chance that a transaction containing apples will also contain beers, thus inflating the confidence measure. To account for the base popularity of both constituent items, we use a third measure called lift.\n",
    "\n",
    "#### Measure 3: Lift. \n",
    "This says how likely item Y is purchased when item X is purchased, while controlling for how popular item Y is. In Table 1, the lift of {apple -> beer} is 1,which implies no association between items. A lift value greater than 1 means that item Y is likely to be bought if item X is bought, while a value less than 1 means that item Y is unlikely to be bought if item X is bought.\n",
    "![](https://annalyzin.files.wordpress.com/2016/03/association-rule-lift-eqn.png?w=566&h=80)"
   ]
  },
  {
   "cell_type": "code",
   "execution_count": 11,
   "metadata": {
    "ExecuteTime": {
     "end_time": "2019-05-31T11:47:42.407141Z",
     "start_time": "2019-05-31T11:47:40.566100Z"
    }
   },
   "outputs": [],
   "source": [
    "association_rules = apriori(records, min_support=0.0045, min_confidence=0.2, min_lift=3, min_length=2)\n",
    "association_results = list(association_rules)"
   ]
  },
  {
   "cell_type": "markdown",
   "metadata": {},
   "source": [
    "## How many relation derived"
   ]
  },
  {
   "cell_type": "code",
   "execution_count": 6,
   "metadata": {
    "ExecuteTime": {
     "end_time": "2019-05-31T11:46:55.776118Z",
     "start_time": "2019-05-31T11:46:55.770118Z"
    }
   },
   "outputs": [
    {
     "name": "stdout",
     "output_type": "stream",
     "text": [
      "There are 48 Relation derived.\n"
     ]
    }
   ],
   "source": [
    "print(\"There are {} Relation derived.\".format(len(association_results)))"
   ]
  },
  {
   "cell_type": "markdown",
   "metadata": {},
   "source": [
    "### Association Rules Derived"
   ]
  },
  {
   "cell_type": "code",
   "execution_count": 7,
   "metadata": {
    "ExecuteTime": {
     "end_time": "2019-05-31T11:46:55.873119Z",
     "start_time": "2019-05-31T11:46:55.778119Z"
    },
    "code_folding": []
   },
   "outputs": [
    {
     "name": "stdout",
     "output_type": "stream",
     "text": [
      "frozenset({'light cream', 'chicken'})\n",
      "frozenset({'escalope', 'mushroom cream sauce'})\n",
      "frozenset({'escalope', 'pasta'})\n",
      "frozenset({'herb & pepper', 'ground beef'})\n",
      "frozenset({'tomato sauce', 'ground beef'})\n",
      "frozenset({'olive oil', 'whole wheat pasta'})\n",
      "frozenset({'shrimp', 'pasta'})\n",
      "frozenset({'nan', 'light cream', 'chicken'})\n",
      "frozenset({'shrimp', 'chocolate', 'frozen vegetables'})\n",
      "frozenset({'cooking oil', 'spaghetti', 'ground beef'})\n",
      "frozenset({'escalope', 'mushroom cream sauce', 'nan'})\n",
      "frozenset({'escalope', 'pasta', 'nan'})\n",
      "frozenset({'spaghetti', 'ground beef', 'frozen vegetables'})\n",
      "frozenset({'milk', 'olive oil', 'frozen vegetables'})\n",
      "frozenset({'shrimp', 'mineral water', 'frozen vegetables'})\n",
      "frozenset({'spaghetti', 'olive oil', 'frozen vegetables'})\n",
      "frozenset({'shrimp', 'spaghetti', 'frozen vegetables'})\n",
      "frozenset({'spaghetti', 'frozen vegetables', 'tomatoes'})\n",
      "frozenset({'spaghetti', 'ground beef', 'grated cheese'})\n",
      "frozenset({'herb & pepper', 'ground beef', 'mineral water'})\n",
      "frozenset({'herb & pepper', 'nan', 'ground beef'})\n",
      "frozenset({'herb & pepper', 'spaghetti', 'ground beef'})\n",
      "frozenset({'milk', 'ground beef', 'olive oil'})\n",
      "frozenset({'nan', 'tomato sauce', 'ground beef'})\n",
      "frozenset({'shrimp', 'spaghetti', 'ground beef'})\n",
      "frozenset({'milk', 'spaghetti', 'olive oil'})\n",
      "frozenset({'soup', 'mineral water', 'olive oil'})\n",
      "frozenset({'nan', 'olive oil', 'whole wheat pasta'})\n",
      "frozenset({'shrimp', 'nan', 'pasta'})\n",
      "frozenset({'spaghetti', 'pancakes', 'olive oil'})\n",
      "frozenset({'shrimp', 'chocolate', 'frozen vegetables', 'nan'})\n",
      "frozenset({'cooking oil', 'nan', 'spaghetti', 'ground beef'})\n",
      "frozenset({'nan', 'spaghetti', 'ground beef', 'frozen vegetables'})\n",
      "frozenset({'milk', 'spaghetti', 'mineral water', 'frozen vegetables'})\n",
      "frozenset({'milk', 'nan', 'olive oil', 'frozen vegetables'})\n",
      "frozenset({'shrimp', 'nan', 'mineral water', 'frozen vegetables'})\n",
      "frozenset({'nan', 'spaghetti', 'olive oil', 'frozen vegetables'})\n",
      "frozenset({'shrimp', 'nan', 'spaghetti', 'frozen vegetables'})\n",
      "frozenset({'nan', 'spaghetti', 'frozen vegetables', 'tomatoes'})\n",
      "frozenset({'nan', 'spaghetti', 'ground beef', 'grated cheese'})\n",
      "frozenset({'herb & pepper', 'nan', 'ground beef', 'mineral water'})\n",
      "frozenset({'herb & pepper', 'nan', 'spaghetti', 'ground beef'})\n",
      "frozenset({'milk', 'nan', 'ground beef', 'olive oil'})\n",
      "frozenset({'shrimp', 'nan', 'spaghetti', 'ground beef'})\n",
      "frozenset({'milk', 'nan', 'spaghetti', 'olive oil'})\n",
      "frozenset({'nan', 'soup', 'mineral water', 'olive oil'})\n",
      "frozenset({'nan', 'spaghetti', 'pancakes', 'olive oil'})\n",
      "frozenset({'milk', 'frozen vegetables', 'nan', 'spaghetti', 'mineral water'})\n"
     ]
    }
   ],
   "source": [
    "for i in range(0, len(association_results)):\n",
    "    print(association_results[i][0])"
   ]
  },
  {
   "cell_type": "markdown",
   "metadata": {},
   "source": [
    "## Rules Generated"
   ]
  },
  {
   "cell_type": "code",
   "execution_count": 13,
   "metadata": {
    "ExecuteTime": {
     "end_time": "2019-05-31T11:48:08.589737Z",
     "start_time": "2019-05-31T11:48:08.573742Z"
    },
    "scrolled": false
   },
   "outputs": [
    {
     "name": "stdout",
     "output_type": "stream",
     "text": [
      "Rule: light cream -> chicken\n",
      "Support: 0.004533333333333334\n",
      "Confidence: 0.2905982905982906\n",
      "Lift: 4.843304843304844\n",
      "=====================================\n",
      "Rule: escalope -> mushroom cream sauce\n",
      "Support: 0.005733333333333333\n",
      "Confidence: 0.30069930069930073\n",
      "Lift: 3.7903273197390845\n",
      "=====================================\n",
      "Rule: escalope -> pasta\n",
      "Support: 0.005866666666666667\n",
      "Confidence: 0.37288135593220345\n",
      "Lift: 4.700185158809287\n",
      "=====================================\n",
      "Rule: herb & pepper -> ground beef\n",
      "Support: 0.016\n",
      "Confidence: 0.3234501347708895\n",
      "Lift: 3.2915549671393096\n",
      "=====================================\n",
      "Rule: tomato sauce -> ground beef\n",
      "Support: 0.005333333333333333\n",
      "Confidence: 0.37735849056603776\n",
      "Lift: 3.840147461662528\n",
      "=====================================\n",
      "Rule: olive oil -> whole wheat pasta\n",
      "Support: 0.008\n",
      "Confidence: 0.2714932126696833\n",
      "Lift: 4.130221288078346\n",
      "=====================================\n",
      "Rule: shrimp -> pasta\n",
      "Support: 0.005066666666666666\n",
      "Confidence: 0.3220338983050848\n",
      "Lift: 4.514493901473151\n",
      "=====================================\n",
      "Rule: nan -> light cream\n",
      "Support: 0.004533333333333334\n",
      "Confidence: 0.2905982905982906\n",
      "Lift: 4.843304843304844\n",
      "=====================================\n",
      "Rule: shrimp -> chocolate\n",
      "Support: 0.005333333333333333\n",
      "Confidence: 0.23255813953488372\n",
      "Lift: 3.260160834601174\n",
      "=====================================\n",
      "Rule: cooking oil -> spaghetti\n",
      "Support: 0.0048\n",
      "Confidence: 0.5714285714285714\n",
      "Lift: 3.281557646029315\n",
      "=====================================\n",
      "Rule: escalope -> mushroom cream sauce\n",
      "Support: 0.005733333333333333\n",
      "Confidence: 0.30069930069930073\n",
      "Lift: 3.7903273197390845\n",
      "=====================================\n",
      "Rule: escalope -> pasta\n",
      "Support: 0.005866666666666667\n",
      "Confidence: 0.37288135593220345\n",
      "Lift: 4.700185158809287\n",
      "=====================================\n",
      "Rule: spaghetti -> ground beef\n",
      "Support: 0.008666666666666666\n",
      "Confidence: 0.3110047846889952\n",
      "Lift: 3.164906221394116\n",
      "=====================================\n",
      "Rule: milk -> olive oil\n",
      "Support: 0.0048\n",
      "Confidence: 0.20338983050847456\n",
      "Lift: 3.094165778526489\n",
      "=====================================\n",
      "Rule: shrimp -> mineral water\n",
      "Support: 0.0072\n",
      "Confidence: 0.3068181818181818\n",
      "Lift: 3.2183725365543547\n",
      "=====================================\n",
      "Rule: spaghetti -> olive oil\n",
      "Support: 0.005733333333333333\n",
      "Confidence: 0.20574162679425836\n",
      "Lift: 3.1299436124887174\n",
      "=====================================\n",
      "Rule: shrimp -> spaghetti\n",
      "Support: 0.006\n",
      "Confidence: 0.21531100478468898\n",
      "Lift: 3.0183785717479763\n",
      "=====================================\n",
      "Rule: spaghetti -> frozen vegetables\n",
      "Support: 0.006666666666666667\n",
      "Confidence: 0.23923444976076555\n",
      "Lift: 3.497579674864993\n",
      "=====================================\n",
      "Rule: spaghetti -> ground beef\n",
      "Support: 0.005333333333333333\n",
      "Confidence: 0.3225806451612903\n",
      "Lift: 3.282706701098612\n",
      "=====================================\n",
      "Rule: herb & pepper -> ground beef\n",
      "Support: 0.006666666666666667\n",
      "Confidence: 0.390625\n",
      "Lift: 3.975152645861601\n",
      "=====================================\n",
      "Rule: herb & pepper -> nan\n",
      "Support: 0.016\n",
      "Confidence: 0.3234501347708895\n",
      "Lift: 3.2915549671393096\n",
      "=====================================\n",
      "Rule: herb & pepper -> spaghetti\n",
      "Support: 0.0064\n",
      "Confidence: 0.3934426229508197\n",
      "Lift: 4.003825878061259\n",
      "=====================================\n",
      "Rule: milk -> ground beef\n",
      "Support: 0.004933333333333333\n",
      "Confidence: 0.22424242424242424\n",
      "Lift: 3.411395906324912\n",
      "=====================================\n",
      "Rule: nan -> tomato sauce\n",
      "Support: 0.005333333333333333\n",
      "Confidence: 0.37735849056603776\n",
      "Lift: 3.840147461662528\n",
      "=====================================\n",
      "Rule: shrimp -> spaghetti\n",
      "Support: 0.006\n",
      "Confidence: 0.5232558139534884\n",
      "Lift: 3.004914704939635\n",
      "=====================================\n",
      "Rule: milk -> spaghetti\n",
      "Support: 0.0072\n",
      "Confidence: 0.20300751879699247\n",
      "Lift: 3.0883496774390333\n",
      "=====================================\n",
      "Rule: soup -> mineral water\n",
      "Support: 0.0052\n",
      "Confidence: 0.2254335260115607\n",
      "Lift: 3.4295161157945335\n",
      "=====================================\n",
      "Rule: nan -> olive oil\n",
      "Support: 0.008\n",
      "Confidence: 0.2714932126696833\n",
      "Lift: 4.130221288078346\n",
      "=====================================\n",
      "Rule: shrimp -> nan\n",
      "Support: 0.005066666666666666\n",
      "Confidence: 0.3220338983050848\n",
      "Lift: 4.514493901473151\n",
      "=====================================\n",
      "Rule: spaghetti -> pancakes\n",
      "Support: 0.005066666666666666\n",
      "Confidence: 0.20105820105820105\n",
      "Lift: 3.0586947422647217\n",
      "=====================================\n",
      "Rule: shrimp -> chocolate\n",
      "Support: 0.005333333333333333\n",
      "Confidence: 0.23255813953488372\n",
      "Lift: 3.260160834601174\n",
      "=====================================\n",
      "Rule: cooking oil -> nan\n",
      "Support: 0.0048\n",
      "Confidence: 0.5714285714285714\n",
      "Lift: 3.281557646029315\n",
      "=====================================\n",
      "Rule: nan -> spaghetti\n",
      "Support: 0.008666666666666666\n",
      "Confidence: 0.3110047846889952\n",
      "Lift: 3.164906221394116\n",
      "=====================================\n",
      "Rule: milk -> spaghetti\n",
      "Support: 0.004533333333333334\n",
      "Confidence: 0.28813559322033905\n",
      "Lift: 3.0224013274860737\n",
      "=====================================\n",
      "Rule: milk -> nan\n",
      "Support: 0.0048\n",
      "Confidence: 0.20338983050847456\n",
      "Lift: 3.094165778526489\n",
      "=====================================\n",
      "Rule: shrimp -> nan\n",
      "Support: 0.0072\n",
      "Confidence: 0.3068181818181818\n",
      "Lift: 3.2183725365543547\n",
      "=====================================\n",
      "Rule: nan -> spaghetti\n",
      "Support: 0.005733333333333333\n",
      "Confidence: 0.20574162679425836\n",
      "Lift: 3.1299436124887174\n",
      "=====================================\n",
      "Rule: shrimp -> nan\n",
      "Support: 0.006\n",
      "Confidence: 0.21531100478468898\n",
      "Lift: 3.0183785717479763\n",
      "=====================================\n",
      "Rule: nan -> spaghetti\n",
      "Support: 0.006666666666666667\n",
      "Confidence: 0.23923444976076555\n",
      "Lift: 3.497579674864993\n",
      "=====================================\n",
      "Rule: nan -> spaghetti\n",
      "Support: 0.005333333333333333\n",
      "Confidence: 0.3225806451612903\n",
      "Lift: 3.282706701098612\n",
      "=====================================\n",
      "Rule: herb & pepper -> nan\n",
      "Support: 0.006666666666666667\n",
      "Confidence: 0.390625\n",
      "Lift: 3.975152645861601\n",
      "=====================================\n",
      "Rule: herb & pepper -> nan\n",
      "Support: 0.0064\n",
      "Confidence: 0.3934426229508197\n",
      "Lift: 4.003825878061259\n",
      "=====================================\n",
      "Rule: milk -> nan\n",
      "Support: 0.004933333333333333\n",
      "Confidence: 0.22424242424242424\n",
      "Lift: 3.411395906324912\n",
      "=====================================\n",
      "Rule: shrimp -> nan\n",
      "Support: 0.006\n",
      "Confidence: 0.5232558139534884\n",
      "Lift: 3.004914704939635\n",
      "=====================================\n",
      "Rule: milk -> nan\n",
      "Support: 0.0072\n",
      "Confidence: 0.20300751879699247\n",
      "Lift: 3.0883496774390333\n",
      "=====================================\n",
      "Rule: nan -> soup\n",
      "Support: 0.0052\n",
      "Confidence: 0.2254335260115607\n",
      "Lift: 3.4295161157945335\n",
      "=====================================\n",
      "Rule: nan -> spaghetti\n",
      "Support: 0.005066666666666666\n",
      "Confidence: 0.20105820105820105\n",
      "Lift: 3.0586947422647217\n",
      "=====================================\n",
      "Rule: milk -> frozen vegetables\n",
      "Support: 0.004533333333333334\n",
      "Confidence: 0.28813559322033905\n",
      "Lift: 3.0224013274860737\n",
      "=====================================\n"
     ]
    }
   ],
   "source": [
    "for item in association_results:\n",
    "    # first index of the inner list\n",
    "    # Contains base item and add item\n",
    "    pair = item[0]\n",
    "    items = [x for x in pair]\n",
    "    print(\"Rule: \" + items[0] + \" -> \" + items[1])\n",
    "\n",
    "    # second index of the inner list\n",
    "    print(\"Support: \" + str(item[1]))\n",
    "\n",
    "    # third index of the list located at 0th\n",
    "    # of the third index of the inner list\n",
    "\n",
    "    print(\"Confidence: \" + str(item[2][0][2]))\n",
    "    print(\"Lift: \" + str(item[2][0][3]))\n",
    "    print(\"=====================================\")"
   ]
  },
  {
   "cell_type": "markdown",
   "metadata": {
    "ExecuteTime": {
     "end_time": "2019-05-31T11:56:17.717346Z",
     "start_time": "2019-05-31T11:56:17.713349Z"
    }
   },
   "source": [
    "References : **Theory** https://www.kdnuggets.com/2016/04/association-rules-apriori-algorithm-tutorial.html"
   ]
  }
 ],
 "metadata": {
  "hide_input": false,
  "kernelspec": {
   "display_name": "Python 3",
   "language": "python",
   "name": "python3"
  },
  "language_info": {
   "codemirror_mode": {
    "name": "ipython",
    "version": 3
   },
   "file_extension": ".py",
   "mimetype": "text/x-python",
   "name": "python",
   "nbconvert_exporter": "python",
   "pygments_lexer": "ipython3",
   "version": "3.10.6 (tags/v3.10.6:9c7b4bd, Aug  1 2022, 21:53:49) [MSC v.1932 64 bit (AMD64)]"
  },
  "latex_envs": {
   "LaTeX_envs_menu_present": true,
   "autoclose": false,
   "autocomplete": true,
   "bibliofile": "biblio.bib",
   "cite_by": "apalike",
   "current_citInitial": 1,
   "eqLabelWithNumbers": true,
   "eqNumInitial": 1,
   "hotkeys": {
    "equation": "Ctrl-E",
    "itemize": "Ctrl-I"
   },
   "labels_anchors": false,
   "latex_user_defs": false,
   "report_style_numbering": false,
   "user_envs_cfg": false
  },
  "nbTranslate": {
   "displayLangs": [
    "*"
   ],
   "hotkey": "alt-t",
   "langInMainMenu": true,
   "sourceLang": "en",
   "targetLang": "fr",
   "useGoogleTranslate": true
  },
  "toc": {
   "base_numbering": 1,
   "nav_menu": {},
   "number_sections": true,
   "sideBar": true,
   "skip_h1_title": false,
   "title_cell": "Table of Contents",
   "title_sidebar": "Contents",
   "toc_cell": false,
   "toc_position": {},
   "toc_section_display": true,
   "toc_window_display": false
  },
  "varInspector": {
   "cols": {
    "lenName": 16,
    "lenType": 16,
    "lenVar": 40
   },
   "kernels_config": {
    "python": {
     "delete_cmd_postfix": "",
     "delete_cmd_prefix": "del ",
     "library": "var_list.py",
     "varRefreshCmd": "print(var_dic_list())"
    },
    "r": {
     "delete_cmd_postfix": ") ",
     "delete_cmd_prefix": "rm(",
     "library": "var_list.r",
     "varRefreshCmd": "cat(var_dic_list()) "
    }
   },
   "types_to_exclude": [
    "module",
    "function",
    "builtin_function_or_method",
    "instance",
    "_Feature"
   ],
   "window_display": false
  },
  "vscode": {
   "interpreter": {
    "hash": "6bb3125c1822972e8a25ab6064636d5733fa3ee3065ecae4ae6e3265338a9c55"
   }
  }
 },
 "nbformat": 4,
 "nbformat_minor": 2
}
