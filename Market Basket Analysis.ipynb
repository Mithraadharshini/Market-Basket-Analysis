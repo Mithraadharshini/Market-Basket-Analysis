{
 "cells": [
  {
   "cell_type": "markdown",
   "metadata": {},
   "source": [
    "# Market Basket Analysis of Store Data\n",
    "\n",
    "## Dataset Description\n",
    "\n",
    "* Different products given 7500 transactions over the course of a week at a French retail store.\n",
    "* We have library(**apyori**) to calculate the association rule using Apriori."
   ]
  },
  {
   "cell_type": "markdown",
   "metadata": {},
   "source": [
    "## Import the Library"
   ]
  },
  {
   "cell_type": "code",
   "execution_count": 3,
   "metadata": {
    "ExecuteTime": {
     "end_time": "2019-05-31T11:46:52.394081Z",
     "start_time": "2019-05-31T11:46:51.727017Z"
    }
   },
   "outputs": [],
   "source": [
    "import numpy as np\n",
    "import pandas as pd\n",
    "import matplotlib.pyplot as plt\n",
    "from apyori import apriori"
   ]
  },
  {
   "cell_type": "markdown",
   "metadata": {},
   "source": [
    "## Read data and Display"
   ]
  },
  {
   "cell_type": "code",
   "execution_count": 4,
   "metadata": {
    "ExecuteTime": {
     "end_time": "2019-05-31T11:46:52.446120Z",
     "start_time": "2019-05-31T11:46:52.396020Z"
    },
    "tags": []
   },
   "outputs": [
    {
     "data": {
      "text/html": [
       "<div>\n",
       "<style scoped>\n",
       "    .dataframe tbody tr th:only-of-type {\n",
       "        vertical-align: middle;\n",
       "    }\n",
       "\n",
       "    .dataframe tbody tr th {\n",
       "        vertical-align: top;\n",
       "    }\n",
       "\n",
       "    .dataframe thead th {\n",
       "        text-align: right;\n",
       "    }\n",
       "</style>\n",
       "<table border=\"1\" class=\"dataframe\">\n",
       "  <thead>\n",
       "    <tr style=\"text-align: right;\">\n",
       "      <th></th>\n",
       "      <th>0</th>\n",
       "      <th>1</th>\n",
       "      <th>2</th>\n",
       "      <th>3</th>\n",
       "      <th>4</th>\n",
       "      <th>5</th>\n",
       "      <th>6</th>\n",
       "      <th>7</th>\n",
       "      <th>8</th>\n",
       "      <th>9</th>\n",
       "      <th>10</th>\n",
       "      <th>11</th>\n",
       "      <th>12</th>\n",
       "      <th>13</th>\n",
       "      <th>14</th>\n",
       "      <th>15</th>\n",
       "      <th>16</th>\n",
       "      <th>17</th>\n",
       "      <th>18</th>\n",
       "      <th>19</th>\n",
       "    </tr>\n",
       "  </thead>\n",
       "  <tbody>\n",
       "    <tr>\n",
       "      <th>0</th>\n",
       "      <td>shrimp</td>\n",
       "      <td>almonds</td>\n",
       "      <td>avocado</td>\n",
       "      <td>vegetables mix</td>\n",
       "      <td>green grapes</td>\n",
       "      <td>whole weat flour</td>\n",
       "      <td>yams</td>\n",
       "      <td>cottage cheese</td>\n",
       "      <td>energy drink</td>\n",
       "      <td>tomato juice</td>\n",
       "      <td>low fat yogurt</td>\n",
       "      <td>green tea</td>\n",
       "      <td>honey</td>\n",
       "      <td>salad</td>\n",
       "      <td>mineral water</td>\n",
       "      <td>salmon</td>\n",
       "      <td>antioxydant juice</td>\n",
       "      <td>frozen smoothie</td>\n",
       "      <td>spinach</td>\n",
       "      <td>olive oil</td>\n",
       "    </tr>\n",
       "    <tr>\n",
       "      <th>1</th>\n",
       "      <td>burgers</td>\n",
       "      <td>meatballs</td>\n",
       "      <td>eggs</td>\n",
       "      <td>NaN</td>\n",
       "      <td>NaN</td>\n",
       "      <td>NaN</td>\n",
       "      <td>NaN</td>\n",
       "      <td>NaN</td>\n",
       "      <td>NaN</td>\n",
       "      <td>NaN</td>\n",
       "      <td>NaN</td>\n",
       "      <td>NaN</td>\n",
       "      <td>NaN</td>\n",
       "      <td>NaN</td>\n",
       "      <td>NaN</td>\n",
       "      <td>NaN</td>\n",
       "      <td>NaN</td>\n",
       "      <td>NaN</td>\n",
       "      <td>NaN</td>\n",
       "      <td>NaN</td>\n",
       "    </tr>\n",
       "    <tr>\n",
       "      <th>2</th>\n",
       "      <td>chutney</td>\n",
       "      <td>NaN</td>\n",
       "      <td>NaN</td>\n",
       "      <td>NaN</td>\n",
       "      <td>NaN</td>\n",
       "      <td>NaN</td>\n",
       "      <td>NaN</td>\n",
       "      <td>NaN</td>\n",
       "      <td>NaN</td>\n",
       "      <td>NaN</td>\n",
       "      <td>NaN</td>\n",
       "      <td>NaN</td>\n",
       "      <td>NaN</td>\n",
       "      <td>NaN</td>\n",
       "      <td>NaN</td>\n",
       "      <td>NaN</td>\n",
       "      <td>NaN</td>\n",
       "      <td>NaN</td>\n",
       "      <td>NaN</td>\n",
       "      <td>NaN</td>\n",
       "    </tr>\n",
       "    <tr>\n",
       "      <th>3</th>\n",
       "      <td>turkey</td>\n",
       "      <td>avocado</td>\n",
       "      <td>NaN</td>\n",
       "      <td>NaN</td>\n",
       "      <td>NaN</td>\n",
       "      <td>NaN</td>\n",
       "      <td>NaN</td>\n",
       "      <td>NaN</td>\n",
       "      <td>NaN</td>\n",
       "      <td>NaN</td>\n",
       "      <td>NaN</td>\n",
       "      <td>NaN</td>\n",
       "      <td>NaN</td>\n",
       "      <td>NaN</td>\n",
       "      <td>NaN</td>\n",
       "      <td>NaN</td>\n",
       "      <td>NaN</td>\n",
       "      <td>NaN</td>\n",
       "      <td>NaN</td>\n",
       "      <td>NaN</td>\n",
       "    </tr>\n",
       "    <tr>\n",
       "      <th>4</th>\n",
       "      <td>mineral water</td>\n",
       "      <td>milk</td>\n",
       "      <td>energy bar</td>\n",
       "      <td>whole wheat rice</td>\n",
       "      <td>green tea</td>\n",
       "      <td>NaN</td>\n",
       "      <td>NaN</td>\n",
       "      <td>NaN</td>\n",
       "      <td>NaN</td>\n",
       "      <td>NaN</td>\n",
       "      <td>NaN</td>\n",
       "      <td>NaN</td>\n",
       "      <td>NaN</td>\n",
       "      <td>NaN</td>\n",
       "      <td>NaN</td>\n",
       "      <td>NaN</td>\n",
       "      <td>NaN</td>\n",
       "      <td>NaN</td>\n",
       "      <td>NaN</td>\n",
       "      <td>NaN</td>\n",
       "    </tr>\n",
       "  </tbody>\n",
       "</table>\n",
       "</div>"
      ],
      "text/plain": [
       "              0          1           2                 3             4   \\\n",
       "0         shrimp    almonds     avocado    vegetables mix  green grapes   \n",
       "1        burgers  meatballs        eggs               NaN           NaN   \n",
       "2        chutney        NaN         NaN               NaN           NaN   \n",
       "3         turkey    avocado         NaN               NaN           NaN   \n",
       "4  mineral water       milk  energy bar  whole wheat rice     green tea   \n",
       "\n",
       "                 5     6               7             8             9   \\\n",
       "0  whole weat flour  yams  cottage cheese  energy drink  tomato juice   \n",
       "1               NaN   NaN             NaN           NaN           NaN   \n",
       "2               NaN   NaN             NaN           NaN           NaN   \n",
       "3               NaN   NaN             NaN           NaN           NaN   \n",
       "4               NaN   NaN             NaN           NaN           NaN   \n",
       "\n",
       "               10         11     12     13             14      15  \\\n",
       "0  low fat yogurt  green tea  honey  salad  mineral water  salmon   \n",
       "1             NaN        NaN    NaN    NaN            NaN     NaN   \n",
       "2             NaN        NaN    NaN    NaN            NaN     NaN   \n",
       "3             NaN        NaN    NaN    NaN            NaN     NaN   \n",
       "4             NaN        NaN    NaN    NaN            NaN     NaN   \n",
       "\n",
       "                  16               17       18         19  \n",
       "0  antioxydant juice  frozen smoothie  spinach  olive oil  \n",
       "1                NaN              NaN      NaN        NaN  \n",
       "2                NaN              NaN      NaN        NaN  \n",
       "3                NaN              NaN      NaN        NaN  \n",
       "4                NaN              NaN      NaN        NaN  "
      ]
     },
     "metadata": {},
     "output_type": "display_data"
    },
    {
     "name": "stdout",
     "output_type": "stream",
     "text": [
      "(7501, 20)\n"
     ]
    }
   ],
   "source": [
    "store_data = pd.read_csv(r\"E:\\Market-Basket-Analysis-master\\Data\\store_data.csv\", header=None)\n",
    "display(store_data.head())\n",
    "print(store_data.shape)"
   ]
  },
  {
   "cell_type": "code",
   "execution_count": 2,
   "metadata": {},
   "outputs": [
    {
     "name": "stdout",
     "output_type": "stream",
     "text": [
      "Collecting apyoriNote: you may need to restart the kernel to use updated packages.\n",
      "\n",
      "  Using cached apyori-1.1.2.tar.gz (8.6 kB)\n",
      "  Preparing metadata (setup.py): started\n",
      "  Preparing metadata (setup.py): finished with status 'done'\n",
      "Building wheels for collected packages: apyori\n",
      "  Building wheel for apyori (setup.py): started\n",
      "  Building wheel for apyori (setup.py): finished with status 'done'\n",
      "  Created wheel for apyori: filename=apyori-1.1.2-py3-none-any.whl size=5955 sha256=5b136b1b941657a972e699cc7cfbfd127ae7ba673b60eb27d973b8d47dd9f074\n",
      "  Stored in directory: c:\\users\\mithraa\\appdata\\local\\pip\\cache\\wheels\\1a\\4d\\4f\\a171c142b66180456b83a6180a70e68108127ea2d546ca174b\n",
      "Successfully built apyori\n",
      "Installing collected packages: apyori\n",
      "Successfully installed apyori-1.1.2\n"
     ]
    }
   ],
   "source": [
    "pip install apyori"
   ]
  },
  {
   "attachments": {},
   "cell_type": "markdown",
   "metadata": {},
   "source": [
    "## Preprocessing the Data\n",
    "*  Here ,converting the data into the list for Apriori Algorithm."
   ]
  },
  {
   "cell_type": "code",
   "execution_count": 5,
   "metadata": {
    "ExecuteTime": {
     "end_time": "2019-05-31T11:46:53.754118Z",
     "start_time": "2019-05-31T11:46:52.448022Z"
    }
   },
   "outputs": [],
   "source": [
    "records = []\n",
    "for i in range(1, 7501):\n",
    "    records.append([str(store_data.values[i, j]) for j in range(0, 20)])"
   ]
  },
  {
   "cell_type": "code",
   "execution_count": 6,
   "metadata": {
    "ExecuteTime": {
     "end_time": "2019-05-31T11:46:53.759119Z",
     "start_time": "2019-05-31T11:46:53.756117Z"
    }
   },
   "outputs": [
    {
     "name": "stdout",
     "output_type": "stream",
     "text": [
      "<class 'list'>\n"
     ]
    }
   ],
   "source": [
    "print(type(records))"
   ]
  },
  {
   "attachments": {},
   "cell_type": "markdown",
   "metadata": {},
   "source": [
    "## Apriori Algorithm\n",
    "\n",
    "* Provided `min_support`, `min_confidence`, `min_lift`, and `min length` of sample-set for find rule.\n",
    "\n",
    "#### Measure 1: Support.\n",
    "#### Measure 2: Confidence. \n",
    "#### Measure 3: Lift. "
   ]
  },
  {
   "cell_type": "code",
   "execution_count": 7,
   "metadata": {
    "ExecuteTime": {
     "end_time": "2019-05-31T11:47:42.407141Z",
     "start_time": "2019-05-31T11:47:40.566100Z"
    }
   },
   "outputs": [],
   "source": [
    "association_rules = apriori(records, min_support=0.0045, min_confidence=0.2, min_lift=3, min_length=2)\n",
    "association_results = list(association_rules)"
   ]
  },
  {
   "attachments": {},
   "cell_type": "markdown",
   "metadata": {},
   "source": [
    "## Finding How many relation are derived"
   ]
  },
  {
   "cell_type": "code",
   "execution_count": 8,
   "metadata": {
    "ExecuteTime": {
     "end_time": "2019-05-31T11:46:55.776118Z",
     "start_time": "2019-05-31T11:46:55.770118Z"
    }
   },
   "outputs": [
    {
     "name": "stdout",
     "output_type": "stream",
     "text": [
      "There are 48 Relation derived.\n"
     ]
    }
   ],
   "source": [
    "print(\"There are {} Relation derived.\".format(len(association_results)))"
   ]
  },
  {
   "cell_type": "markdown",
   "metadata": {},
   "source": [
    "### Association Rules Derived"
   ]
  },
  {
   "cell_type": "code",
   "execution_count": 9,
   "metadata": {
    "ExecuteTime": {
     "end_time": "2019-05-31T11:46:55.873119Z",
     "start_time": "2019-05-31T11:46:55.778119Z"
    },
    "code_folding": []
   },
   "outputs": [
    {
     "name": "stdout",
     "output_type": "stream",
     "text": [
      "frozenset({'light cream', 'chicken'})\n",
      "frozenset({'mushroom cream sauce', 'escalope'})\n",
      "frozenset({'pasta', 'escalope'})\n",
      "frozenset({'herb & pepper', 'ground beef'})\n",
      "frozenset({'tomato sauce', 'ground beef'})\n",
      "frozenset({'whole wheat pasta', 'olive oil'})\n",
      "frozenset({'pasta', 'shrimp'})\n",
      "frozenset({'nan', 'light cream', 'chicken'})\n",
      "frozenset({'chocolate', 'frozen vegetables', 'shrimp'})\n",
      "frozenset({'spaghetti', 'ground beef', 'cooking oil'})\n",
      "frozenset({'nan', 'mushroom cream sauce', 'escalope'})\n",
      "frozenset({'nan', 'pasta', 'escalope'})\n",
      "frozenset({'frozen vegetables', 'spaghetti', 'ground beef'})\n",
      "frozenset({'frozen vegetables', 'milk', 'olive oil'})\n",
      "frozenset({'frozen vegetables', 'mineral water', 'shrimp'})\n",
      "frozenset({'frozen vegetables', 'spaghetti', 'olive oil'})\n",
      "frozenset({'frozen vegetables', 'spaghetti', 'shrimp'})\n",
      "frozenset({'frozen vegetables', 'spaghetti', 'tomatoes'})\n",
      "frozenset({'spaghetti', 'ground beef', 'grated cheese'})\n",
      "frozenset({'mineral water', 'herb & pepper', 'ground beef'})\n",
      "frozenset({'nan', 'herb & pepper', 'ground beef'})\n",
      "frozenset({'spaghetti', 'herb & pepper', 'ground beef'})\n",
      "frozenset({'milk', 'ground beef', 'olive oil'})\n",
      "frozenset({'nan', 'tomato sauce', 'ground beef'})\n",
      "frozenset({'shrimp', 'spaghetti', 'ground beef'})\n",
      "frozenset({'milk', 'spaghetti', 'olive oil'})\n",
      "frozenset({'mineral water', 'olive oil', 'soup'})\n",
      "frozenset({'whole wheat pasta', 'nan', 'olive oil'})\n",
      "frozenset({'nan', 'pasta', 'shrimp'})\n",
      "frozenset({'spaghetti', 'olive oil', 'pancakes'})\n",
      "frozenset({'chocolate', 'nan', 'frozen vegetables', 'shrimp'})\n",
      "frozenset({'nan', 'spaghetti', 'ground beef', 'cooking oil'})\n",
      "frozenset({'frozen vegetables', 'nan', 'spaghetti', 'ground beef'})\n",
      "frozenset({'frozen vegetables', 'milk', 'mineral water', 'spaghetti'})\n",
      "frozenset({'nan', 'frozen vegetables', 'milk', 'olive oil'})\n",
      "frozenset({'frozen vegetables', 'nan', 'mineral water', 'shrimp'})\n",
      "frozenset({'frozen vegetables', 'nan', 'spaghetti', 'olive oil'})\n",
      "frozenset({'frozen vegetables', 'nan', 'spaghetti', 'shrimp'})\n",
      "frozenset({'frozen vegetables', 'nan', 'spaghetti', 'tomatoes'})\n",
      "frozenset({'nan', 'spaghetti', 'ground beef', 'grated cheese'})\n",
      "frozenset({'nan', 'mineral water', 'herb & pepper', 'ground beef'})\n",
      "frozenset({'nan', 'spaghetti', 'herb & pepper', 'ground beef'})\n",
      "frozenset({'milk', 'nan', 'ground beef', 'olive oil'})\n",
      "frozenset({'nan', 'spaghetti', 'ground beef', 'shrimp'})\n",
      "frozenset({'milk', 'nan', 'spaghetti', 'olive oil'})\n",
      "frozenset({'nan', 'mineral water', 'olive oil', 'soup'})\n",
      "frozenset({'nan', 'spaghetti', 'olive oil', 'pancakes'})\n",
      "frozenset({'spaghetti', 'milk', 'nan', 'frozen vegetables', 'mineral water'})\n"
     ]
    }
   ],
   "source": [
    "for i in range(0, len(association_results)):\n",
    "    print(association_results[i][0])"
   ]
  },
  {
   "cell_type": "markdown",
   "metadata": {},
   "source": [
    "## Rules Generated"
   ]
  },
  {
   "cell_type": "code",
   "execution_count": 10,
   "metadata": {
    "ExecuteTime": {
     "end_time": "2019-05-31T11:48:08.589737Z",
     "start_time": "2019-05-31T11:48:08.573742Z"
    },
    "scrolled": false
   },
   "outputs": [
    {
     "name": "stdout",
     "output_type": "stream",
     "text": [
      "Rule: light cream -> chicken\n",
      "Support: 0.004533333333333334\n",
      "Confidence: 0.2905982905982906\n",
      "Lift: 4.843304843304844\n",
      "=====================================\n",
      "Rule: mushroom cream sauce -> escalope\n",
      "Support: 0.005733333333333333\n",
      "Confidence: 0.30069930069930073\n",
      "Lift: 3.7903273197390845\n",
      "=====================================\n",
      "Rule: pasta -> escalope\n",
      "Support: 0.005866666666666667\n",
      "Confidence: 0.37288135593220345\n",
      "Lift: 4.700185158809287\n",
      "=====================================\n",
      "Rule: herb & pepper -> ground beef\n",
      "Support: 0.016\n",
      "Confidence: 0.3234501347708895\n",
      "Lift: 3.2915549671393096\n",
      "=====================================\n",
      "Rule: tomato sauce -> ground beef\n",
      "Support: 0.005333333333333333\n",
      "Confidence: 0.37735849056603776\n",
      "Lift: 3.840147461662528\n",
      "=====================================\n",
      "Rule: whole wheat pasta -> olive oil\n",
      "Support: 0.008\n",
      "Confidence: 0.2714932126696833\n",
      "Lift: 4.130221288078346\n",
      "=====================================\n",
      "Rule: pasta -> shrimp\n",
      "Support: 0.005066666666666666\n",
      "Confidence: 0.3220338983050848\n",
      "Lift: 4.514493901473151\n",
      "=====================================\n",
      "Rule: nan -> light cream\n",
      "Support: 0.004533333333333334\n",
      "Confidence: 0.2905982905982906\n",
      "Lift: 4.843304843304844\n",
      "=====================================\n",
      "Rule: chocolate -> frozen vegetables\n",
      "Support: 0.005333333333333333\n",
      "Confidence: 0.23255813953488372\n",
      "Lift: 3.260160834601174\n",
      "=====================================\n",
      "Rule: spaghetti -> ground beef\n",
      "Support: 0.0048\n",
      "Confidence: 0.5714285714285714\n",
      "Lift: 3.281557646029315\n",
      "=====================================\n",
      "Rule: nan -> mushroom cream sauce\n",
      "Support: 0.005733333333333333\n",
      "Confidence: 0.30069930069930073\n",
      "Lift: 3.7903273197390845\n",
      "=====================================\n",
      "Rule: nan -> pasta\n",
      "Support: 0.005866666666666667\n",
      "Confidence: 0.37288135593220345\n",
      "Lift: 4.700185158809287\n",
      "=====================================\n",
      "Rule: frozen vegetables -> spaghetti\n",
      "Support: 0.008666666666666666\n",
      "Confidence: 0.3110047846889952\n",
      "Lift: 3.164906221394116\n",
      "=====================================\n",
      "Rule: frozen vegetables -> milk\n",
      "Support: 0.0048\n",
      "Confidence: 0.20338983050847456\n",
      "Lift: 3.094165778526489\n",
      "=====================================\n",
      "Rule: frozen vegetables -> mineral water\n",
      "Support: 0.0072\n",
      "Confidence: 0.3068181818181818\n",
      "Lift: 3.2183725365543547\n",
      "=====================================\n",
      "Rule: frozen vegetables -> spaghetti\n",
      "Support: 0.005733333333333333\n",
      "Confidence: 0.20574162679425836\n",
      "Lift: 3.1299436124887174\n",
      "=====================================\n",
      "Rule: frozen vegetables -> spaghetti\n",
      "Support: 0.006\n",
      "Confidence: 0.21531100478468898\n",
      "Lift: 3.0183785717479763\n",
      "=====================================\n",
      "Rule: frozen vegetables -> spaghetti\n",
      "Support: 0.006666666666666667\n",
      "Confidence: 0.23923444976076555\n",
      "Lift: 3.497579674864993\n",
      "=====================================\n",
      "Rule: spaghetti -> ground beef\n",
      "Support: 0.005333333333333333\n",
      "Confidence: 0.3225806451612903\n",
      "Lift: 3.282706701098612\n",
      "=====================================\n",
      "Rule: mineral water -> herb & pepper\n",
      "Support: 0.006666666666666667\n",
      "Confidence: 0.390625\n",
      "Lift: 3.975152645861601\n",
      "=====================================\n",
      "Rule: nan -> herb & pepper\n",
      "Support: 0.016\n",
      "Confidence: 0.3234501347708895\n",
      "Lift: 3.2915549671393096\n",
      "=====================================\n",
      "Rule: spaghetti -> herb & pepper\n",
      "Support: 0.0064\n",
      "Confidence: 0.3934426229508197\n",
      "Lift: 4.003825878061259\n",
      "=====================================\n",
      "Rule: milk -> ground beef\n",
      "Support: 0.004933333333333333\n",
      "Confidence: 0.22424242424242424\n",
      "Lift: 3.411395906324912\n",
      "=====================================\n",
      "Rule: nan -> tomato sauce\n",
      "Support: 0.005333333333333333\n",
      "Confidence: 0.37735849056603776\n",
      "Lift: 3.840147461662528\n",
      "=====================================\n",
      "Rule: shrimp -> spaghetti\n",
      "Support: 0.006\n",
      "Confidence: 0.5232558139534884\n",
      "Lift: 3.004914704939635\n",
      "=====================================\n",
      "Rule: milk -> spaghetti\n",
      "Support: 0.0072\n",
      "Confidence: 0.20300751879699247\n",
      "Lift: 3.0883496774390333\n",
      "=====================================\n",
      "Rule: mineral water -> olive oil\n",
      "Support: 0.0052\n",
      "Confidence: 0.2254335260115607\n",
      "Lift: 3.4295161157945335\n",
      "=====================================\n",
      "Rule: whole wheat pasta -> nan\n",
      "Support: 0.008\n",
      "Confidence: 0.2714932126696833\n",
      "Lift: 4.130221288078346\n",
      "=====================================\n",
      "Rule: nan -> pasta\n",
      "Support: 0.005066666666666666\n",
      "Confidence: 0.3220338983050848\n",
      "Lift: 4.514493901473151\n",
      "=====================================\n",
      "Rule: spaghetti -> olive oil\n",
      "Support: 0.005066666666666666\n",
      "Confidence: 0.20105820105820105\n",
      "Lift: 3.0586947422647217\n",
      "=====================================\n",
      "Rule: chocolate -> nan\n",
      "Support: 0.005333333333333333\n",
      "Confidence: 0.23255813953488372\n",
      "Lift: 3.260160834601174\n",
      "=====================================\n",
      "Rule: nan -> spaghetti\n",
      "Support: 0.0048\n",
      "Confidence: 0.5714285714285714\n",
      "Lift: 3.281557646029315\n",
      "=====================================\n",
      "Rule: frozen vegetables -> nan\n",
      "Support: 0.008666666666666666\n",
      "Confidence: 0.3110047846889952\n",
      "Lift: 3.164906221394116\n",
      "=====================================\n",
      "Rule: frozen vegetables -> milk\n",
      "Support: 0.004533333333333334\n",
      "Confidence: 0.28813559322033905\n",
      "Lift: 3.0224013274860737\n",
      "=====================================\n",
      "Rule: nan -> frozen vegetables\n",
      "Support: 0.0048\n",
      "Confidence: 0.20338983050847456\n",
      "Lift: 3.094165778526489\n",
      "=====================================\n",
      "Rule: frozen vegetables -> nan\n",
      "Support: 0.0072\n",
      "Confidence: 0.3068181818181818\n",
      "Lift: 3.2183725365543547\n",
      "=====================================\n",
      "Rule: frozen vegetables -> nan\n",
      "Support: 0.005733333333333333\n",
      "Confidence: 0.20574162679425836\n",
      "Lift: 3.1299436124887174\n",
      "=====================================\n",
      "Rule: frozen vegetables -> nan\n",
      "Support: 0.006\n",
      "Confidence: 0.21531100478468898\n",
      "Lift: 3.0183785717479763\n",
      "=====================================\n",
      "Rule: frozen vegetables -> nan\n",
      "Support: 0.006666666666666667\n",
      "Confidence: 0.23923444976076555\n",
      "Lift: 3.497579674864993\n",
      "=====================================\n",
      "Rule: nan -> spaghetti\n",
      "Support: 0.005333333333333333\n",
      "Confidence: 0.3225806451612903\n",
      "Lift: 3.282706701098612\n",
      "=====================================\n",
      "Rule: nan -> mineral water\n",
      "Support: 0.006666666666666667\n",
      "Confidence: 0.390625\n",
      "Lift: 3.975152645861601\n",
      "=====================================\n",
      "Rule: nan -> spaghetti\n",
      "Support: 0.0064\n",
      "Confidence: 0.3934426229508197\n",
      "Lift: 4.003825878061259\n",
      "=====================================\n",
      "Rule: milk -> nan\n",
      "Support: 0.004933333333333333\n",
      "Confidence: 0.22424242424242424\n",
      "Lift: 3.411395906324912\n",
      "=====================================\n",
      "Rule: nan -> spaghetti\n",
      "Support: 0.006\n",
      "Confidence: 0.5232558139534884\n",
      "Lift: 3.004914704939635\n",
      "=====================================\n",
      "Rule: milk -> nan\n",
      "Support: 0.0072\n",
      "Confidence: 0.20300751879699247\n",
      "Lift: 3.0883496774390333\n",
      "=====================================\n",
      "Rule: nan -> mineral water\n",
      "Support: 0.0052\n",
      "Confidence: 0.2254335260115607\n",
      "Lift: 3.4295161157945335\n",
      "=====================================\n",
      "Rule: nan -> spaghetti\n",
      "Support: 0.005066666666666666\n",
      "Confidence: 0.20105820105820105\n",
      "Lift: 3.0586947422647217\n",
      "=====================================\n",
      "Rule: spaghetti -> milk\n",
      "Support: 0.004533333333333334\n",
      "Confidence: 0.28813559322033905\n",
      "Lift: 3.0224013274860737\n",
      "=====================================\n"
     ]
    }
   ],
   "source": [
    "for item in association_results:\n",
    "    # first index of the inner list\n",
    "    # Contains base item and add item\n",
    "    pair = item[0]\n",
    "    items = [x for x in pair]\n",
    "    print(\"Rule: \" + items[0] + \" -> \" + items[1])\n",
    "\n",
    "    # second index of the inner list\n",
    "    print(\"Support: \" + str(item[1]))\n",
    "\n",
    "    # third index of the list located at 0th\n",
    "    # of the third index of the inner list\n",
    "\n",
    "    print(\"Confidence: \" + str(item[2][0][2]))\n",
    "    print(\"Lift: \" + str(item[2][0][3]))\n",
    "    print(\"=====================================\")"
   ]
  }
 ],
 "metadata": {
  "hide_input": false,
  "kernelspec": {
   "display_name": "base",
   "language": "python",
   "name": "python3"
  },
  "language_info": {
   "codemirror_mode": {
    "name": "ipython",
    "version": 3
   },
   "file_extension": ".py",
   "mimetype": "text/x-python",
   "name": "python",
   "nbconvert_exporter": "python",
   "pygments_lexer": "ipython3",
   "version": "3.9.15 (main, Nov 24 2022, 14:39:17) [MSC v.1916 64 bit (AMD64)]"
  },
  "latex_envs": {
   "LaTeX_envs_menu_present": true,
   "autoclose": false,
   "autocomplete": true,
   "bibliofile": "biblio.bib",
   "cite_by": "apalike",
   "current_citInitial": 1,
   "eqLabelWithNumbers": true,
   "eqNumInitial": 1,
   "hotkeys": {
    "equation": "Ctrl-E",
    "itemize": "Ctrl-I"
   },
   "labels_anchors": false,
   "latex_user_defs": false,
   "report_style_numbering": false,
   "user_envs_cfg": false
  },
  "nbTranslate": {
   "displayLangs": [
    "*"
   ],
   "hotkey": "alt-t",
   "langInMainMenu": true,
   "sourceLang": "en",
   "targetLang": "fr",
   "useGoogleTranslate": true
  },
  "toc": {
   "base_numbering": 1,
   "nav_menu": {},
   "number_sections": true,
   "sideBar": true,
   "skip_h1_title": false,
   "title_cell": "Table of Contents",
   "title_sidebar": "Contents",
   "toc_cell": false,
   "toc_position": {},
   "toc_section_display": true,
   "toc_window_display": false
  },
  "varInspector": {
   "cols": {
    "lenName": 16,
    "lenType": 16,
    "lenVar": 40
   },
   "kernels_config": {
    "python": {
     "delete_cmd_postfix": "",
     "delete_cmd_prefix": "del ",
     "library": "var_list.py",
     "varRefreshCmd": "print(var_dic_list())"
    },
    "r": {
     "delete_cmd_postfix": ") ",
     "delete_cmd_prefix": "rm(",
     "library": "var_list.r",
     "varRefreshCmd": "cat(var_dic_list()) "
    }
   },
   "types_to_exclude": [
    "module",
    "function",
    "builtin_function_or_method",
    "instance",
    "_Feature"
   ],
   "window_display": false
  },
  "vscode": {
   "interpreter": {
    "hash": "af433f4238261ee51bb89353a4e0572604363c7f5ff7ea542924e1e7cf877f34"
   }
  }
 },
 "nbformat": 4,
 "nbformat_minor": 2
}
